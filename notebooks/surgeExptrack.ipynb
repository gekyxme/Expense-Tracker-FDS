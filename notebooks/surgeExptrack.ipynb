{
 "cells": [
  {
   "cell_type": "markdown",
   "id": "a2683a73-c7e2-4b2b-a301-d091adbf36b4",
   "metadata": {},
   "source": [
    "### Installing Dependencies"
   ]
  },
  {
   "cell_type": "code",
   "execution_count": 3,
   "id": "d509a535-a5a8-4b91-9f31-22054e953e36",
   "metadata": {},
   "outputs": [
    {
     "name": "stderr",
     "output_type": "stream",
     "text": [
      "[nltk_data] Downloading package punkt to\n",
      "[nltk_data]     C:\\Users\\amrit\\AppData\\Roaming\\nltk_data...\n",
      "[nltk_data]   Package punkt is already up-to-date!\n",
      "[nltk_data] Downloading package stopwords to\n",
      "[nltk_data]     C:\\Users\\amrit\\AppData\\Roaming\\nltk_data...\n",
      "[nltk_data]   Package stopwords is already up-to-date!\n",
      "[nltk_data] Downloading package wordnet to\n",
      "[nltk_data]     C:\\Users\\amrit\\AppData\\Roaming\\nltk_data...\n",
      "[nltk_data]   Package wordnet is already up-to-date!\n"
     ]
    },
    {
     "data": {
      "text/plain": [
       "True"
      ]
     },
     "execution_count": 3,
     "metadata": {},
     "output_type": "execute_result"
    }
   ],
   "source": [
    "import pandas as pd\n",
    "from sklearn.model_selection import train_test_split\n",
    "from sklearn.feature_extraction.text import TfidfVectorizer\n",
    "from sklearn.naive_bayes import MultinomialNB\n",
    "from sklearn.metrics import classification_report\n",
    "import nltk\n",
    "\n",
    "# Download NLTK resources\n",
    "nltk.download('punkt')\n",
    "nltk.download('stopwords')\n",
    "nltk.download('wordnet')"
   ]
  },
  {
   "cell_type": "markdown",
   "id": "2e1e7239-e365-4f79-b285-d79d698445a2",
   "metadata": {},
   "source": [
    "### Load Dataset"
   ]
  },
  {
   "cell_type": "code",
   "execution_count": 4,
   "id": "1ddd07dc-604a-4aea-98d7-455e768f7f64",
   "metadata": {
    "scrolled": true
   },
   "outputs": [
    {
     "data": {
      "text/html": [
       "<div>\n",
       "<style scoped>\n",
       "    .dataframe tbody tr th:only-of-type {\n",
       "        vertical-align: middle;\n",
       "    }\n",
       "\n",
       "    .dataframe tbody tr th {\n",
       "        vertical-align: top;\n",
       "    }\n",
       "\n",
       "    .dataframe thead th {\n",
       "        text-align: right;\n",
       "    }\n",
       "</style>\n",
       "<table border=\"1\" class=\"dataframe\">\n",
       "  <thead>\n",
       "    <tr style=\"text-align: right;\">\n",
       "      <th></th>\n",
       "      <th>worker_id</th>\n",
       "      <th>task_id</th>\n",
       "      <th>task_response_id</th>\n",
       "      <th>transaction_text</th>\n",
       "      <th>transaction_value</th>\n",
       "      <th>transaction_type</th>\n",
       "      <th>transaction_description</th>\n",
       "      <th>expense_intent</th>\n",
       "    </tr>\n",
       "  </thead>\n",
       "  <tbody>\n",
       "    <tr>\n",
       "      <th>0</th>\n",
       "      <td>YYCA2DXN94NG</td>\n",
       "      <td>a9f6eed1-1c62-494e-8e06-787357e67e07</td>\n",
       "      <td>5f4d78f9-f7b0-4d93-8677-7226ad0147a8</td>\n",
       "      <td>8046 Debit Card Purchase Uber Help.Uber.Ca</td>\n",
       "      <td>4</td>\n",
       "      <td>Debit</td>\n",
       "      <td>This is a tip paid for an Uber ride.</td>\n",
       "      <td>Transportation / Taxis and ride shares</td>\n",
       "    </tr>\n",
       "    <tr>\n",
       "      <th>1</th>\n",
       "      <td>MFVVAY4H7Y4H</td>\n",
       "      <td>8c5c2797-544f-452e-b406-81784b36d741</td>\n",
       "      <td>d7577435-1ea4-48e4-ae7a-6f7047c2f8c0</td>\n",
       "      <td>UBER TRIP 8005928996 /CA US CARD PURCHASE</td>\n",
       "      <td>11.8</td>\n",
       "      <td>Debit</td>\n",
       "      <td>Uber trip from the hospital to my house.</td>\n",
       "      <td>Transportation / Public Transport</td>\n",
       "    </tr>\n",
       "    <tr>\n",
       "      <th>2</th>\n",
       "      <td>J6TM2D4MANTG</td>\n",
       "      <td>69332579-a566-4223-8f23-9fea43b44f87</td>\n",
       "      <td>35629ccf-9cb4-4945-9961-5fa176b0d2eb</td>\n",
       "      <td>DEBIT CARD PURCHASE XXXXX8046 LYFT *2 RIDES 04...</td>\n",
       "      <td>20.64</td>\n",
       "      <td>Debit</td>\n",
       "      <td>Rideshare charges for two rides.</td>\n",
       "      <td>Rent &amp; Utilities / Electricity, natural gas an...</td>\n",
       "    </tr>\n",
       "    <tr>\n",
       "      <th>3</th>\n",
       "      <td>J6TM2D4MANTG</td>\n",
       "      <td>69332579-a566-4223-8f23-9fea43b44f87</td>\n",
       "      <td>fc10cc93-3953-4e6d-8859-9592b7d99bfc</td>\n",
       "      <td>DEBIT CARD PURCHASE XXXXX8046 LYFT *2 RIDES 04...</td>\n",
       "      <td>20.64</td>\n",
       "      <td>Debit</td>\n",
       "      <td>Rideshare charges for two rides.</td>\n",
       "      <td>Transportation / Taxis and ride shares</td>\n",
       "    </tr>\n",
       "    <tr>\n",
       "      <th>4</th>\n",
       "      <td>PC663CTNCDXX</td>\n",
       "      <td>cb24b81a-aa2b-4ca8-9fd0-95ccca8ce55d</td>\n",
       "      <td>74bef5cf-7d55-4af6-bc8d-fffe103cd393</td>\n",
       "      <td>LYFT 2 RIDES 05-26 Debit Card</td>\n",
       "      <td>93.45</td>\n",
       "      <td>Debit</td>\n",
       "      <td>This was the cost of taking two Lyft rides in ...</td>\n",
       "      <td>Transportation / Taxis and ride shares</td>\n",
       "    </tr>\n",
       "  </tbody>\n",
       "</table>\n",
       "</div>"
      ],
      "text/plain": [
       "      worker_id                               task_id  \\\n",
       "0  YYCA2DXN94NG  a9f6eed1-1c62-494e-8e06-787357e67e07   \n",
       "1  MFVVAY4H7Y4H  8c5c2797-544f-452e-b406-81784b36d741   \n",
       "2  J6TM2D4MANTG  69332579-a566-4223-8f23-9fea43b44f87   \n",
       "3  J6TM2D4MANTG  69332579-a566-4223-8f23-9fea43b44f87   \n",
       "4  PC663CTNCDXX  cb24b81a-aa2b-4ca8-9fd0-95ccca8ce55d   \n",
       "\n",
       "                       task_response_id  \\\n",
       "0  5f4d78f9-f7b0-4d93-8677-7226ad0147a8   \n",
       "1  d7577435-1ea4-48e4-ae7a-6f7047c2f8c0   \n",
       "2  35629ccf-9cb4-4945-9961-5fa176b0d2eb   \n",
       "3  fc10cc93-3953-4e6d-8859-9592b7d99bfc   \n",
       "4  74bef5cf-7d55-4af6-bc8d-fffe103cd393   \n",
       "\n",
       "                                    transaction_text transaction_value  \\\n",
       "0         8046 Debit Card Purchase Uber Help.Uber.Ca                 4   \n",
       "1          UBER TRIP 8005928996 /CA US CARD PURCHASE              11.8   \n",
       "2  DEBIT CARD PURCHASE XXXXX8046 LYFT *2 RIDES 04...             20.64   \n",
       "3  DEBIT CARD PURCHASE XXXXX8046 LYFT *2 RIDES 04...             20.64   \n",
       "4                      LYFT 2 RIDES 05-26 Debit Card             93.45   \n",
       "\n",
       "  transaction_type                            transaction_description  \\\n",
       "0            Debit               This is a tip paid for an Uber ride.   \n",
       "1            Debit           Uber trip from the hospital to my house.   \n",
       "2            Debit                   Rideshare charges for two rides.   \n",
       "3            Debit                   Rideshare charges for two rides.   \n",
       "4            Debit  This was the cost of taking two Lyft rides in ...   \n",
       "\n",
       "                                      expense_intent  \n",
       "0             Transportation / Taxis and ride shares  \n",
       "1                  Transportation / Public Transport  \n",
       "2  Rent & Utilities / Electricity, natural gas an...  \n",
       "3             Transportation / Taxis and ride shares  \n",
       "4             Transportation / Taxis and ride shares  "
      ]
     },
     "execution_count": 4,
     "metadata": {},
     "output_type": "execute_result"
    }
   ],
   "source": [
    "df = pd.read_csv('../data/SurgeDataset.csv')\n",
    "df.head()"
   ]
  },
  {
   "cell_type": "markdown",
   "id": "028d3e4b-7863-402b-8e0c-492cded5edfc",
   "metadata": {},
   "source": [
    "### Data Cleaning"
   ]
  },
  {
   "cell_type": "code",
   "execution_count": 6,
   "id": "7a72f866-543c-4a0f-b18d-bc1f338b0b42",
   "metadata": {
    "scrolled": true
   },
   "outputs": [
    {
     "name": "stdout",
     "output_type": "stream",
     "text": [
      "Index(['worker_id', 'task_id', 'task_response_id', 'transaction_text',\n",
      "       'transaction_value', 'transaction_type', 'transaction_description',\n",
      "       'expense_intent'],\n",
      "      dtype='object')\n"
     ]
    }
   ],
   "source": [
    "# Displaying the column names\n",
    "print(df.columns)\n",
    "desired = [\"transaction_value\", \"transaction_description\", \"expense_intent\"]\n",
    "# Selecting only the desired columns\n",
    "df_filtered = df[desired]\n",
    "\n",
    "df_filtered.to_csv('../data/filteredExportAmt.csv', index=True)"
   ]
  },
  {
   "cell_type": "code",
   "execution_count": 4,
   "id": "6f18d38d-bb46-4559-b03b-26cf247ea14e",
   "metadata": {},
   "outputs": [
    {
     "name": "stderr",
     "output_type": "stream",
     "text": [
      "C:\\Users\\amrit\\AppData\\Local\\Temp\\ipykernel_30604\\2575348888.py:2: SettingWithCopyWarning: \n",
      "A value is trying to be set on a copy of a slice from a DataFrame.\n",
      "Try using .loc[row_indexer,col_indexer] = value instead\n",
      "\n",
      "See the caveats in the documentation: https://pandas.pydata.org/pandas-docs/stable/user_guide/indexing.html#returning-a-view-versus-a-copy\n",
      "  df_filtered['expense'] = df_filtered['transaction_description'] + ' Rs ' + df_filtered['transaction_value'].astype(str)\n",
      "C:\\Users\\amrit\\AppData\\Local\\Temp\\ipykernel_30604\\2575348888.py:5: SettingWithCopyWarning: \n",
      "A value is trying to be set on a copy of a slice from a DataFrame\n",
      "\n",
      "See the caveats in the documentation: https://pandas.pydata.org/pandas-docs/stable/user_guide/indexing.html#returning-a-view-versus-a-copy\n",
      "  df_filtered.drop(columns=['transaction_value', 'transaction_description'], inplace=True)\n",
      "C:\\Users\\amrit\\AppData\\Local\\Temp\\ipykernel_30604\\2575348888.py:7: SettingWithCopyWarning: \n",
      "A value is trying to be set on a copy of a slice from a DataFrame.\n",
      "Try using .loc[row_indexer,col_indexer] = value instead\n",
      "\n",
      "See the caveats in the documentation: https://pandas.pydata.org/pandas-docs/stable/user_guide/indexing.html#returning-a-view-versus-a-copy\n",
      "  df_filtered['expense_intent'] = df_filtered['expense_intent'].apply(lambda x: x.split('/')[0].strip())\n"
     ]
    }
   ],
   "source": [
    "# Concatenating \"transaction_description\" with \"transaction_value\"\n",
    "df_filtered['expense'] = df_filtered['transaction_description'] + ' Rs ' + df_filtered['transaction_value'].astype(str)\n",
    "\n",
    "# Dropping the original columns\n",
    "df_filtered.drop(columns=['transaction_value', 'transaction_description'], inplace=True)\n",
    "\n",
    "df_filtered['expense_intent'] = df_filtered['expense_intent'].apply(lambda x: x.split('/')[0].strip())"
   ]
  },
  {
   "cell_type": "code",
   "execution_count": 5,
   "id": "c8cc38ff-e151-49cd-bbbb-66b46ecc6f60",
   "metadata": {},
   "outputs": [
    {
     "data": {
      "text/html": [
       "<div>\n",
       "<style scoped>\n",
       "    .dataframe tbody tr th:only-of-type {\n",
       "        vertical-align: middle;\n",
       "    }\n",
       "\n",
       "    .dataframe tbody tr th {\n",
       "        vertical-align: top;\n",
       "    }\n",
       "\n",
       "    .dataframe thead th {\n",
       "        text-align: right;\n",
       "    }\n",
       "</style>\n",
       "<table border=\"1\" class=\"dataframe\">\n",
       "  <thead>\n",
       "    <tr style=\"text-align: right;\">\n",
       "      <th></th>\n",
       "      <th>expense_intent</th>\n",
       "      <th>expense</th>\n",
       "    </tr>\n",
       "  </thead>\n",
       "  <tbody>\n",
       "    <tr>\n",
       "      <th>0</th>\n",
       "      <td>Transportation</td>\n",
       "      <td>This is a tip paid for an Uber ride. Rs 4</td>\n",
       "    </tr>\n",
       "    <tr>\n",
       "      <th>1</th>\n",
       "      <td>Transportation</td>\n",
       "      <td>Uber trip from the hospital to my house. Rs 11.8</td>\n",
       "    </tr>\n",
       "    <tr>\n",
       "      <th>2</th>\n",
       "      <td>Rent &amp; Utilities</td>\n",
       "      <td>Rideshare charges for two rides. Rs 20.64</td>\n",
       "    </tr>\n",
       "    <tr>\n",
       "      <th>3</th>\n",
       "      <td>Transportation</td>\n",
       "      <td>Rideshare charges for two rides. Rs 20.64</td>\n",
       "    </tr>\n",
       "    <tr>\n",
       "      <th>4</th>\n",
       "      <td>Transportation</td>\n",
       "      <td>This was the cost of taking two Lyft rides in ...</td>\n",
       "    </tr>\n",
       "    <tr>\n",
       "      <th>...</th>\n",
       "      <td>...</td>\n",
       "      <td>...</td>\n",
       "    </tr>\n",
       "    <tr>\n",
       "      <th>517</th>\n",
       "      <td>Entertainment</td>\n",
       "      <td>This was for my Amazon Prime membership. Rs 6.59</td>\n",
       "    </tr>\n",
       "    <tr>\n",
       "      <th>518</th>\n",
       "      <td>Entertainment</td>\n",
       "      <td>I bought a CD. Rs 13.24</td>\n",
       "    </tr>\n",
       "    <tr>\n",
       "      <th>519</th>\n",
       "      <td>Entertainment</td>\n",
       "      <td>I paid for my Netflix subscription. Rs 16.79</td>\n",
       "    </tr>\n",
       "    <tr>\n",
       "      <th>520</th>\n",
       "      <td>Entertainment</td>\n",
       "      <td>A family visit to a children's place centre. R...</td>\n",
       "    </tr>\n",
       "    <tr>\n",
       "      <th>521</th>\n",
       "      <td>Entertainment</td>\n",
       "      <td>Movie Rental. Rs 5.34</td>\n",
       "    </tr>\n",
       "  </tbody>\n",
       "</table>\n",
       "<p>522 rows × 2 columns</p>\n",
       "</div>"
      ],
      "text/plain": [
       "       expense_intent                                            expense\n",
       "0      Transportation          This is a tip paid for an Uber ride. Rs 4\n",
       "1      Transportation   Uber trip from the hospital to my house. Rs 11.8\n",
       "2    Rent & Utilities          Rideshare charges for two rides. Rs 20.64\n",
       "3      Transportation          Rideshare charges for two rides. Rs 20.64\n",
       "4      Transportation  This was the cost of taking two Lyft rides in ...\n",
       "..                ...                                                ...\n",
       "517     Entertainment   This was for my Amazon Prime membership. Rs 6.59\n",
       "518     Entertainment                            I bought a CD. Rs 13.24\n",
       "519     Entertainment       I paid for my Netflix subscription. Rs 16.79\n",
       "520     Entertainment  A family visit to a children's place centre. R...\n",
       "521     Entertainment                              Movie Rental. Rs 5.34\n",
       "\n",
       "[522 rows x 2 columns]"
      ]
     },
     "metadata": {},
     "output_type": "display_data"
    }
   ],
   "source": [
    "display(df_filtered)"
   ]
  },
  {
   "cell_type": "code",
   "execution_count": 33,
   "id": "bf0f45d5-7daf-4b8f-8584-5206a417e954",
   "metadata": {},
   "outputs": [],
   "source": [
    "df_filtered.to_csv('../data/filteredExport.csv', index=True)"
   ]
  },
  {
   "cell_type": "code",
   "execution_count": 6,
   "id": "c1c5649f-1382-4e6f-94d2-5f0c0112560f",
   "metadata": {},
   "outputs": [
    {
     "data": {
      "text/plain": [
       "expense_intent\n",
       "Food & Drink               138\n",
       "General Merchandise         58\n",
       "Bank Transfers              54\n",
       "Entertainment               51\n",
       "Loans                       48\n",
       "Rent & Utilities            40\n",
       "Income                      32\n",
       "Transportation              30\n",
       "General Services            30\n",
       "Medical                     20\n",
       "Government + Non-Profit     16\n",
       "Travel                       5\n",
       "Name: count, dtype: int64"
      ]
     },
     "execution_count": 6,
     "metadata": {},
     "output_type": "execute_result"
    }
   ],
   "source": [
    "df_filtered[\"expense_intent\"].value_counts()"
   ]
  },
  {
   "cell_type": "markdown",
   "id": "dff70b51-c8cf-4e18-a1ff-641397f090cc",
   "metadata": {},
   "source": [
    "### Text Processing"
   ]
  },
  {
   "cell_type": "code",
   "execution_count": 7,
   "id": "eb75c175-6f40-458f-8a7c-fbc0c1bd6e46",
   "metadata": {},
   "outputs": [],
   "source": [
    "import nltk\n",
    "from nltk.tokenize import word_tokenize\n",
    "from nltk.corpus import stopwords\n",
    "from nltk.stem import WordNetLemmatizer\n",
    "\n",
    "# Text preprocessing\n",
    "lemmatizer = WordNetLemmatizer()\n",
    "stop_words = set(stopwords.words('english'))\n",
    "\n",
    "def preprocess_text(text):\n",
    "    tokens = word_tokenize(text.lower())  # Tokenization and lowercasing\n",
    "    tokens = [lemmatizer.lemmatize(token) for token in tokens if token.isalpha()]  # Lemmatization\n",
    "    tokens = [token for token in tokens if token not in stop_words]  # Removing stop words\n",
    "    return ' '.join(tokens)\n",
    "\n",
    "df['expense'] = df_filtered['expense'].apply(preprocess_text)"
   ]
  },
  {
   "cell_type": "markdown",
   "id": "1b26d433-bf24-4b59-bbd9-3daf76096ef9",
   "metadata": {},
   "source": [
    "### Split Data into Train and Test sets"
   ]
  },
  {
   "cell_type": "code",
   "execution_count": 8,
   "id": "4113e6af-f698-4312-bf1c-8d2f58fe66ba",
   "metadata": {},
   "outputs": [],
   "source": [
    "X_train, X_test, y_train, y_test = train_test_split(df_filtered['expense'], df_filtered['expense_intent'], test_size=0.2, random_state=42)"
   ]
  },
  {
   "cell_type": "code",
   "execution_count": 9,
   "id": "1f6effb1-8b90-42f4-a811-f0ac6b229156",
   "metadata": {},
   "outputs": [
    {
     "data": {
      "text/plain": [
       "434             Bank Transfers\n",
       "440              Entertainment\n",
       "6               Transportation\n",
       "184                      Loans\n",
       "78              Transportation\n",
       "                ...           \n",
       "342               Food & Drink\n",
       "412               Food & Drink\n",
       "301               Food & Drink\n",
       "428             Bank Transfers\n",
       "153    Government + Non-Profit\n",
       "Name: expense_intent, Length: 105, dtype: object"
      ]
     },
     "execution_count": 9,
     "metadata": {},
     "output_type": "execute_result"
    }
   ],
   "source": [
    "y_test"
   ]
  },
  {
   "cell_type": "markdown",
   "id": "2b843caa-079f-4c20-95e8-664114efe97f",
   "metadata": {},
   "source": [
    "### Vectorize Text data"
   ]
  },
  {
   "cell_type": "code",
   "execution_count": 10,
   "id": "15bbb934-bc5e-450e-9ad0-5a484c86c3a8",
   "metadata": {},
   "outputs": [],
   "source": [
    "vectorizer = TfidfVectorizer()\n",
    "X_train_vectors = vectorizer.fit_transform(X_train)\n",
    "X_test_vectors = vectorizer.transform(X_test)"
   ]
  },
  {
   "cell_type": "code",
   "execution_count": 11,
   "id": "1e6adc33-a5be-46c4-8d7c-e780f35c31e2",
   "metadata": {},
   "outputs": [
    {
     "data": {
      "text/plain": [
       "220                 Income\n",
       "69          Transportation\n",
       "374           Food & Drink\n",
       "305    General Merchandise\n",
       "173       General Services\n",
       "              ...         \n",
       "71        Rent & Utilities\n",
       "106                  Loans\n",
       "270    General Merchandise\n",
       "435          Entertainment\n",
       "102                  Loans\n",
       "Name: expense_intent, Length: 417, dtype: object"
      ]
     },
     "execution_count": 11,
     "metadata": {},
     "output_type": "execute_result"
    }
   ],
   "source": [
    "y_train"
   ]
  },
  {
   "cell_type": "code",
   "execution_count": 12,
   "id": "02fe827c-011b-4916-8f7f-1dcd75e28057",
   "metadata": {},
   "outputs": [],
   "source": [
    "# Vectorize text data\n",
    "vectorizer = TfidfVectorizer()\n",
    "X_train_vectors = vectorizer.fit_transform(X_train)\n",
    "X_test_vectors = vectorizer.transform(X_test)"
   ]
  },
  {
   "cell_type": "markdown",
   "id": "712441ad-3f84-4772-9739-919e436dba8d",
   "metadata": {},
   "source": [
    "# Train a Classifier"
   ]
  },
  {
   "cell_type": "code",
   "execution_count": 14,
   "id": "1fe6c9cd-4d3a-4a4c-87e8-6b22a2806c31",
   "metadata": {},
   "outputs": [
    {
     "data": {
      "text/html": [
       "<style>#sk-container-id-1 {\n",
       "  /* Definition of color scheme common for light and dark mode */\n",
       "  --sklearn-color-text: black;\n",
       "  --sklearn-color-line: gray;\n",
       "  /* Definition of color scheme for unfitted estimators */\n",
       "  --sklearn-color-unfitted-level-0: #fff5e6;\n",
       "  --sklearn-color-unfitted-level-1: #f6e4d2;\n",
       "  --sklearn-color-unfitted-level-2: #ffe0b3;\n",
       "  --sklearn-color-unfitted-level-3: chocolate;\n",
       "  /* Definition of color scheme for fitted estimators */\n",
       "  --sklearn-color-fitted-level-0: #f0f8ff;\n",
       "  --sklearn-color-fitted-level-1: #d4ebff;\n",
       "  --sklearn-color-fitted-level-2: #b3dbfd;\n",
       "  --sklearn-color-fitted-level-3: cornflowerblue;\n",
       "\n",
       "  /* Specific color for light theme */\n",
       "  --sklearn-color-text-on-default-background: var(--sg-text-color, var(--theme-code-foreground, var(--jp-content-font-color1, black)));\n",
       "  --sklearn-color-background: var(--sg-background-color, var(--theme-background, var(--jp-layout-color0, white)));\n",
       "  --sklearn-color-border-box: var(--sg-text-color, var(--theme-code-foreground, var(--jp-content-font-color1, black)));\n",
       "  --sklearn-color-icon: #696969;\n",
       "\n",
       "  @media (prefers-color-scheme: dark) {\n",
       "    /* Redefinition of color scheme for dark theme */\n",
       "    --sklearn-color-text-on-default-background: var(--sg-text-color, var(--theme-code-foreground, var(--jp-content-font-color1, white)));\n",
       "    --sklearn-color-background: var(--sg-background-color, var(--theme-background, var(--jp-layout-color0, #111)));\n",
       "    --sklearn-color-border-box: var(--sg-text-color, var(--theme-code-foreground, var(--jp-content-font-color1, white)));\n",
       "    --sklearn-color-icon: #878787;\n",
       "  }\n",
       "}\n",
       "\n",
       "#sk-container-id-1 {\n",
       "  color: var(--sklearn-color-text);\n",
       "}\n",
       "\n",
       "#sk-container-id-1 pre {\n",
       "  padding: 0;\n",
       "}\n",
       "\n",
       "#sk-container-id-1 input.sk-hidden--visually {\n",
       "  border: 0;\n",
       "  clip: rect(1px 1px 1px 1px);\n",
       "  clip: rect(1px, 1px, 1px, 1px);\n",
       "  height: 1px;\n",
       "  margin: -1px;\n",
       "  overflow: hidden;\n",
       "  padding: 0;\n",
       "  position: absolute;\n",
       "  width: 1px;\n",
       "}\n",
       "\n",
       "#sk-container-id-1 div.sk-dashed-wrapped {\n",
       "  border: 1px dashed var(--sklearn-color-line);\n",
       "  margin: 0 0.4em 0.5em 0.4em;\n",
       "  box-sizing: border-box;\n",
       "  padding-bottom: 0.4em;\n",
       "  background-color: var(--sklearn-color-background);\n",
       "}\n",
       "\n",
       "#sk-container-id-1 div.sk-container {\n",
       "  /* jupyter's `normalize.less` sets `[hidden] { display: none; }`\n",
       "     but bootstrap.min.css set `[hidden] { display: none !important; }`\n",
       "     so we also need the `!important` here to be able to override the\n",
       "     default hidden behavior on the sphinx rendered scikit-learn.org.\n",
       "     See: https://github.com/scikit-learn/scikit-learn/issues/21755 */\n",
       "  display: inline-block !important;\n",
       "  position: relative;\n",
       "}\n",
       "\n",
       "#sk-container-id-1 div.sk-text-repr-fallback {\n",
       "  display: none;\n",
       "}\n",
       "\n",
       "div.sk-parallel-item,\n",
       "div.sk-serial,\n",
       "div.sk-item {\n",
       "  /* draw centered vertical line to link estimators */\n",
       "  background-image: linear-gradient(var(--sklearn-color-text-on-default-background), var(--sklearn-color-text-on-default-background));\n",
       "  background-size: 2px 100%;\n",
       "  background-repeat: no-repeat;\n",
       "  background-position: center center;\n",
       "}\n",
       "\n",
       "/* Parallel-specific style estimator block */\n",
       "\n",
       "#sk-container-id-1 div.sk-parallel-item::after {\n",
       "  content: \"\";\n",
       "  width: 100%;\n",
       "  border-bottom: 2px solid var(--sklearn-color-text-on-default-background);\n",
       "  flex-grow: 1;\n",
       "}\n",
       "\n",
       "#sk-container-id-1 div.sk-parallel {\n",
       "  display: flex;\n",
       "  align-items: stretch;\n",
       "  justify-content: center;\n",
       "  background-color: var(--sklearn-color-background);\n",
       "  position: relative;\n",
       "}\n",
       "\n",
       "#sk-container-id-1 div.sk-parallel-item {\n",
       "  display: flex;\n",
       "  flex-direction: column;\n",
       "}\n",
       "\n",
       "#sk-container-id-1 div.sk-parallel-item:first-child::after {\n",
       "  align-self: flex-end;\n",
       "  width: 50%;\n",
       "}\n",
       "\n",
       "#sk-container-id-1 div.sk-parallel-item:last-child::after {\n",
       "  align-self: flex-start;\n",
       "  width: 50%;\n",
       "}\n",
       "\n",
       "#sk-container-id-1 div.sk-parallel-item:only-child::after {\n",
       "  width: 0;\n",
       "}\n",
       "\n",
       "/* Serial-specific style estimator block */\n",
       "\n",
       "#sk-container-id-1 div.sk-serial {\n",
       "  display: flex;\n",
       "  flex-direction: column;\n",
       "  align-items: center;\n",
       "  background-color: var(--sklearn-color-background);\n",
       "  padding-right: 1em;\n",
       "  padding-left: 1em;\n",
       "}\n",
       "\n",
       "\n",
       "/* Toggleable style: style used for estimator/Pipeline/ColumnTransformer box that is\n",
       "clickable and can be expanded/collapsed.\n",
       "- Pipeline and ColumnTransformer use this feature and define the default style\n",
       "- Estimators will overwrite some part of the style using the `sk-estimator` class\n",
       "*/\n",
       "\n",
       "/* Pipeline and ColumnTransformer style (default) */\n",
       "\n",
       "#sk-container-id-1 div.sk-toggleable {\n",
       "  /* Default theme specific background. It is overwritten whether we have a\n",
       "  specific estimator or a Pipeline/ColumnTransformer */\n",
       "  background-color: var(--sklearn-color-background);\n",
       "}\n",
       "\n",
       "/* Toggleable label */\n",
       "#sk-container-id-1 label.sk-toggleable__label {\n",
       "  cursor: pointer;\n",
       "  display: block;\n",
       "  width: 100%;\n",
       "  margin-bottom: 0;\n",
       "  padding: 0.5em;\n",
       "  box-sizing: border-box;\n",
       "  text-align: center;\n",
       "}\n",
       "\n",
       "#sk-container-id-1 label.sk-toggleable__label-arrow:before {\n",
       "  /* Arrow on the left of the label */\n",
       "  content: \"▸\";\n",
       "  float: left;\n",
       "  margin-right: 0.25em;\n",
       "  color: var(--sklearn-color-icon);\n",
       "}\n",
       "\n",
       "#sk-container-id-1 label.sk-toggleable__label-arrow:hover:before {\n",
       "  color: var(--sklearn-color-text);\n",
       "}\n",
       "\n",
       "/* Toggleable content - dropdown */\n",
       "\n",
       "#sk-container-id-1 div.sk-toggleable__content {\n",
       "  max-height: 0;\n",
       "  max-width: 0;\n",
       "  overflow: hidden;\n",
       "  text-align: left;\n",
       "  /* unfitted */\n",
       "  background-color: var(--sklearn-color-unfitted-level-0);\n",
       "}\n",
       "\n",
       "#sk-container-id-1 div.sk-toggleable__content.fitted {\n",
       "  /* fitted */\n",
       "  background-color: var(--sklearn-color-fitted-level-0);\n",
       "}\n",
       "\n",
       "#sk-container-id-1 div.sk-toggleable__content pre {\n",
       "  margin: 0.2em;\n",
       "  border-radius: 0.25em;\n",
       "  color: var(--sklearn-color-text);\n",
       "  /* unfitted */\n",
       "  background-color: var(--sklearn-color-unfitted-level-0);\n",
       "}\n",
       "\n",
       "#sk-container-id-1 div.sk-toggleable__content.fitted pre {\n",
       "  /* unfitted */\n",
       "  background-color: var(--sklearn-color-fitted-level-0);\n",
       "}\n",
       "\n",
       "#sk-container-id-1 input.sk-toggleable__control:checked~div.sk-toggleable__content {\n",
       "  /* Expand drop-down */\n",
       "  max-height: 200px;\n",
       "  max-width: 100%;\n",
       "  overflow: auto;\n",
       "}\n",
       "\n",
       "#sk-container-id-1 input.sk-toggleable__control:checked~label.sk-toggleable__label-arrow:before {\n",
       "  content: \"▾\";\n",
       "}\n",
       "\n",
       "/* Pipeline/ColumnTransformer-specific style */\n",
       "\n",
       "#sk-container-id-1 div.sk-label input.sk-toggleable__control:checked~label.sk-toggleable__label {\n",
       "  color: var(--sklearn-color-text);\n",
       "  background-color: var(--sklearn-color-unfitted-level-2);\n",
       "}\n",
       "\n",
       "#sk-container-id-1 div.sk-label.fitted input.sk-toggleable__control:checked~label.sk-toggleable__label {\n",
       "  background-color: var(--sklearn-color-fitted-level-2);\n",
       "}\n",
       "\n",
       "/* Estimator-specific style */\n",
       "\n",
       "/* Colorize estimator box */\n",
       "#sk-container-id-1 div.sk-estimator input.sk-toggleable__control:checked~label.sk-toggleable__label {\n",
       "  /* unfitted */\n",
       "  background-color: var(--sklearn-color-unfitted-level-2);\n",
       "}\n",
       "\n",
       "#sk-container-id-1 div.sk-estimator.fitted input.sk-toggleable__control:checked~label.sk-toggleable__label {\n",
       "  /* fitted */\n",
       "  background-color: var(--sklearn-color-fitted-level-2);\n",
       "}\n",
       "\n",
       "#sk-container-id-1 div.sk-label label.sk-toggleable__label,\n",
       "#sk-container-id-1 div.sk-label label {\n",
       "  /* The background is the default theme color */\n",
       "  color: var(--sklearn-color-text-on-default-background);\n",
       "}\n",
       "\n",
       "/* On hover, darken the color of the background */\n",
       "#sk-container-id-1 div.sk-label:hover label.sk-toggleable__label {\n",
       "  color: var(--sklearn-color-text);\n",
       "  background-color: var(--sklearn-color-unfitted-level-2);\n",
       "}\n",
       "\n",
       "/* Label box, darken color on hover, fitted */\n",
       "#sk-container-id-1 div.sk-label.fitted:hover label.sk-toggleable__label.fitted {\n",
       "  color: var(--sklearn-color-text);\n",
       "  background-color: var(--sklearn-color-fitted-level-2);\n",
       "}\n",
       "\n",
       "/* Estimator label */\n",
       "\n",
       "#sk-container-id-1 div.sk-label label {\n",
       "  font-family: monospace;\n",
       "  font-weight: bold;\n",
       "  display: inline-block;\n",
       "  line-height: 1.2em;\n",
       "}\n",
       "\n",
       "#sk-container-id-1 div.sk-label-container {\n",
       "  text-align: center;\n",
       "}\n",
       "\n",
       "/* Estimator-specific */\n",
       "#sk-container-id-1 div.sk-estimator {\n",
       "  font-family: monospace;\n",
       "  border: 1px dotted var(--sklearn-color-border-box);\n",
       "  border-radius: 0.25em;\n",
       "  box-sizing: border-box;\n",
       "  margin-bottom: 0.5em;\n",
       "  /* unfitted */\n",
       "  background-color: var(--sklearn-color-unfitted-level-0);\n",
       "}\n",
       "\n",
       "#sk-container-id-1 div.sk-estimator.fitted {\n",
       "  /* fitted */\n",
       "  background-color: var(--sklearn-color-fitted-level-0);\n",
       "}\n",
       "\n",
       "/* on hover */\n",
       "#sk-container-id-1 div.sk-estimator:hover {\n",
       "  /* unfitted */\n",
       "  background-color: var(--sklearn-color-unfitted-level-2);\n",
       "}\n",
       "\n",
       "#sk-container-id-1 div.sk-estimator.fitted:hover {\n",
       "  /* fitted */\n",
       "  background-color: var(--sklearn-color-fitted-level-2);\n",
       "}\n",
       "\n",
       "/* Specification for estimator info (e.g. \"i\" and \"?\") */\n",
       "\n",
       "/* Common style for \"i\" and \"?\" */\n",
       "\n",
       ".sk-estimator-doc-link,\n",
       "a:link.sk-estimator-doc-link,\n",
       "a:visited.sk-estimator-doc-link {\n",
       "  float: right;\n",
       "  font-size: smaller;\n",
       "  line-height: 1em;\n",
       "  font-family: monospace;\n",
       "  background-color: var(--sklearn-color-background);\n",
       "  border-radius: 1em;\n",
       "  height: 1em;\n",
       "  width: 1em;\n",
       "  text-decoration: none !important;\n",
       "  margin-left: 1ex;\n",
       "  /* unfitted */\n",
       "  border: var(--sklearn-color-unfitted-level-1) 1pt solid;\n",
       "  color: var(--sklearn-color-unfitted-level-1);\n",
       "}\n",
       "\n",
       ".sk-estimator-doc-link.fitted,\n",
       "a:link.sk-estimator-doc-link.fitted,\n",
       "a:visited.sk-estimator-doc-link.fitted {\n",
       "  /* fitted */\n",
       "  border: var(--sklearn-color-fitted-level-1) 1pt solid;\n",
       "  color: var(--sklearn-color-fitted-level-1);\n",
       "}\n",
       "\n",
       "/* On hover */\n",
       "div.sk-estimator:hover .sk-estimator-doc-link:hover,\n",
       ".sk-estimator-doc-link:hover,\n",
       "div.sk-label-container:hover .sk-estimator-doc-link:hover,\n",
       ".sk-estimator-doc-link:hover {\n",
       "  /* unfitted */\n",
       "  background-color: var(--sklearn-color-unfitted-level-3);\n",
       "  color: var(--sklearn-color-background);\n",
       "  text-decoration: none;\n",
       "}\n",
       "\n",
       "div.sk-estimator.fitted:hover .sk-estimator-doc-link.fitted:hover,\n",
       ".sk-estimator-doc-link.fitted:hover,\n",
       "div.sk-label-container:hover .sk-estimator-doc-link.fitted:hover,\n",
       ".sk-estimator-doc-link.fitted:hover {\n",
       "  /* fitted */\n",
       "  background-color: var(--sklearn-color-fitted-level-3);\n",
       "  color: var(--sklearn-color-background);\n",
       "  text-decoration: none;\n",
       "}\n",
       "\n",
       "/* Span, style for the box shown on hovering the info icon */\n",
       ".sk-estimator-doc-link span {\n",
       "  display: none;\n",
       "  z-index: 9999;\n",
       "  position: relative;\n",
       "  font-weight: normal;\n",
       "  right: .2ex;\n",
       "  padding: .5ex;\n",
       "  margin: .5ex;\n",
       "  width: min-content;\n",
       "  min-width: 20ex;\n",
       "  max-width: 50ex;\n",
       "  color: var(--sklearn-color-text);\n",
       "  box-shadow: 2pt 2pt 4pt #999;\n",
       "  /* unfitted */\n",
       "  background: var(--sklearn-color-unfitted-level-0);\n",
       "  border: .5pt solid var(--sklearn-color-unfitted-level-3);\n",
       "}\n",
       "\n",
       ".sk-estimator-doc-link.fitted span {\n",
       "  /* fitted */\n",
       "  background: var(--sklearn-color-fitted-level-0);\n",
       "  border: var(--sklearn-color-fitted-level-3);\n",
       "}\n",
       "\n",
       ".sk-estimator-doc-link:hover span {\n",
       "  display: block;\n",
       "}\n",
       "\n",
       "/* \"?\"-specific style due to the `<a>` HTML tag */\n",
       "\n",
       "#sk-container-id-1 a.estimator_doc_link {\n",
       "  float: right;\n",
       "  font-size: 1rem;\n",
       "  line-height: 1em;\n",
       "  font-family: monospace;\n",
       "  background-color: var(--sklearn-color-background);\n",
       "  border-radius: 1rem;\n",
       "  height: 1rem;\n",
       "  width: 1rem;\n",
       "  text-decoration: none;\n",
       "  /* unfitted */\n",
       "  color: var(--sklearn-color-unfitted-level-1);\n",
       "  border: var(--sklearn-color-unfitted-level-1) 1pt solid;\n",
       "}\n",
       "\n",
       "#sk-container-id-1 a.estimator_doc_link.fitted {\n",
       "  /* fitted */\n",
       "  border: var(--sklearn-color-fitted-level-1) 1pt solid;\n",
       "  color: var(--sklearn-color-fitted-level-1);\n",
       "}\n",
       "\n",
       "/* On hover */\n",
       "#sk-container-id-1 a.estimator_doc_link:hover {\n",
       "  /* unfitted */\n",
       "  background-color: var(--sklearn-color-unfitted-level-3);\n",
       "  color: var(--sklearn-color-background);\n",
       "  text-decoration: none;\n",
       "}\n",
       "\n",
       "#sk-container-id-1 a.estimator_doc_link.fitted:hover {\n",
       "  /* fitted */\n",
       "  background-color: var(--sklearn-color-fitted-level-3);\n",
       "}\n",
       "</style><div id=\"sk-container-id-1\" class=\"sk-top-container\"><div class=\"sk-text-repr-fallback\"><pre>MultinomialNB()</pre><b>In a Jupyter environment, please rerun this cell to show the HTML representation or trust the notebook. <br />On GitHub, the HTML representation is unable to render, please try loading this page with nbviewer.org.</b></div><div class=\"sk-container\" hidden><div class=\"sk-item\"><div class=\"sk-estimator fitted sk-toggleable\"><input class=\"sk-toggleable__control sk-hidden--visually\" id=\"sk-estimator-id-1\" type=\"checkbox\" checked><label for=\"sk-estimator-id-1\" class=\"sk-toggleable__label fitted sk-toggleable__label-arrow fitted\">&nbsp;&nbsp;MultinomialNB<a class=\"sk-estimator-doc-link fitted\" rel=\"noreferrer\" target=\"_blank\" href=\"https://scikit-learn.org/1.4/modules/generated/sklearn.naive_bayes.MultinomialNB.html\">?<span>Documentation for MultinomialNB</span></a><span class=\"sk-estimator-doc-link fitted\">i<span>Fitted</span></span></label><div class=\"sk-toggleable__content fitted\"><pre>MultinomialNB()</pre></div> </div></div></div></div>"
      ],
      "text/plain": [
       "MultinomialNB()"
      ]
     },
     "execution_count": 14,
     "metadata": {},
     "output_type": "execute_result"
    }
   ],
   "source": [
    "classifier = MultinomialNB()\n",
    "classifier.fit(X_train_vectors, y_train)"
   ]
  },
  {
   "cell_type": "markdown",
   "id": "97008e8a-fd4e-47da-84b1-e51aedb900fb",
   "metadata": {},
   "source": [
    "### Save the Model"
   ]
  },
  {
   "cell_type": "code",
   "execution_count": 15,
   "id": "e26befe2-8770-4816-9064-bc0451ddfa9c",
   "metadata": {},
   "outputs": [
    {
     "data": {
      "text/plain": [
       "['../models/surge_exp_classifier.joblib']"
      ]
     },
     "execution_count": 15,
     "metadata": {},
     "output_type": "execute_result"
    }
   ],
   "source": [
    "import joblib\n",
    "# Save the trained model to a file using joblib\n",
    "joblib.dump(classifier, '../models/surge_exp_classifier.joblib')"
   ]
  },
  {
   "cell_type": "markdown",
   "id": "e8596523-0b78-4325-a047-f47dadcae0c8",
   "metadata": {},
   "source": [
    "### Saving the Vectorizer"
   ]
  },
  {
   "cell_type": "code",
   "execution_count": 16,
   "id": "8b3e16fe-a534-48fe-8a0c-37221947b3de",
   "metadata": {},
   "outputs": [
    {
     "data": {
      "text/plain": [
       "['../models/surge_tfidf_vectorizer.joblib']"
      ]
     },
     "execution_count": 16,
     "metadata": {},
     "output_type": "execute_result"
    }
   ],
   "source": [
    "import joblib\n",
    "# Save the vectorizer to a file using joblib\n",
    "joblib.dump(vectorizer, '../models/surge_tfidf_vectorizer.joblib')"
   ]
  },
  {
   "cell_type": "markdown",
   "id": "e2047bc7-a0cd-416b-9034-4c342e3c11bd",
   "metadata": {},
   "source": [
    "### Loading the Model"
   ]
  },
  {
   "cell_type": "code",
   "execution_count": 17,
   "id": "3532efd3-aebf-4a6c-9678-537c11808ca4",
   "metadata": {},
   "outputs": [],
   "source": [
    "import joblib\n",
    "# Load the trained model from the file using joblib\n",
    "classifier = joblib.load('../models/surge_exp_classifier.joblib')"
   ]
  },
  {
   "cell_type": "markdown",
   "id": "809b8f70-efce-41fd-8388-e867ae35bec2",
   "metadata": {},
   "source": [
    "### Evaluate the Classifier"
   ]
  },
  {
   "cell_type": "code",
   "execution_count": 18,
   "id": "e1e9f820-4711-4cf9-82ac-b03a5847cef6",
   "metadata": {},
   "outputs": [
    {
     "name": "stdout",
     "output_type": "stream",
     "text": [
      "                         precision    recall  f1-score   support\n",
      "\n",
      "         Bank Transfers       0.67      0.73      0.70        11\n",
      "          Entertainment       0.75      0.23      0.35        13\n",
      "           Food & Drink       0.29      1.00      0.46        23\n",
      "    General Merchandise       0.00      0.00      0.00         9\n",
      "       General Services       0.00      0.00      0.00         3\n",
      "Government + Non-Profit       0.00      0.00      0.00         3\n",
      "                 Income       0.00      0.00      0.00         8\n",
      "                  Loans       1.00      0.67      0.80         9\n",
      "                Medical       0.00      0.00      0.00         2\n",
      "       Rent & Utilities       1.00      0.36      0.53        14\n",
      "         Transportation       0.00      0.00      0.00         8\n",
      "                 Travel       0.00      0.00      0.00         2\n",
      "\n",
      "               accuracy                           0.43       105\n",
      "              macro avg       0.31      0.25      0.24       105\n",
      "           weighted avg       0.45      0.43      0.36       105\n",
      "\n"
     ]
    },
    {
     "name": "stderr",
     "output_type": "stream",
     "text": [
      "E:\\Programing\\ML\\ml-venv\\lib\\site-packages\\sklearn\\metrics\\_classification.py:1509: UndefinedMetricWarning: Precision is ill-defined and being set to 0.0 in labels with no predicted samples. Use `zero_division` parameter to control this behavior.\n",
      "  _warn_prf(average, modifier, f\"{metric.capitalize()} is\", len(result))\n",
      "E:\\Programing\\ML\\ml-venv\\lib\\site-packages\\sklearn\\metrics\\_classification.py:1509: UndefinedMetricWarning: Precision is ill-defined and being set to 0.0 in labels with no predicted samples. Use `zero_division` parameter to control this behavior.\n",
      "  _warn_prf(average, modifier, f\"{metric.capitalize()} is\", len(result))\n",
      "E:\\Programing\\ML\\ml-venv\\lib\\site-packages\\sklearn\\metrics\\_classification.py:1509: UndefinedMetricWarning: Precision is ill-defined and being set to 0.0 in labels with no predicted samples. Use `zero_division` parameter to control this behavior.\n",
      "  _warn_prf(average, modifier, f\"{metric.capitalize()} is\", len(result))\n"
     ]
    }
   ],
   "source": [
    "predictions = classifier.predict(X_test_vectors)\n",
    "print(classification_report(y_test, predictions))"
   ]
  },
  {
   "cell_type": "markdown",
   "id": "a6d0df97-cb57-4aed-b26e-2a4f01cf7de7",
   "metadata": {},
   "source": [
    "### Random Forest"
   ]
  },
  {
   "cell_type": "code",
   "execution_count": 19,
   "id": "2a817762-23db-4f16-8fb4-c9742f73de11",
   "metadata": {},
   "outputs": [],
   "source": [
    "from sklearn.ensemble import RandomForestClassifier"
   ]
  },
  {
   "cell_type": "code",
   "execution_count": 20,
   "id": "a297c87a-99ef-4b27-97b2-1ce00167edd6",
   "metadata": {},
   "outputs": [
    {
     "name": "stdout",
     "output_type": "stream",
     "text": [
      "                         precision    recall  f1-score   support\n",
      "\n",
      "         Bank Transfers       0.62      0.73      0.67        11\n",
      "          Entertainment       0.67      0.46      0.55        13\n",
      "           Food & Drink       0.48      1.00      0.65        23\n",
      "    General Merchandise       0.50      0.11      0.18         9\n",
      "       General Services       0.00      0.00      0.00         3\n",
      "Government + Non-Profit       0.00      0.00      0.00         3\n",
      "                 Income       1.00      0.50      0.67         8\n",
      "                  Loans       0.75      1.00      0.86         9\n",
      "                Medical       0.00      0.00      0.00         2\n",
      "       Rent & Utilities       1.00      0.79      0.88        14\n",
      "         Transportation       0.75      0.38      0.50         8\n",
      "                 Travel       0.00      0.00      0.00         2\n",
      "\n",
      "               accuracy                           0.62       105\n",
      "              macro avg       0.48      0.41      0.41       105\n",
      "           weighted avg       0.63      0.62      0.57       105\n",
      "\n"
     ]
    },
    {
     "name": "stderr",
     "output_type": "stream",
     "text": [
      "E:\\Programing\\ML\\ml-venv\\lib\\site-packages\\sklearn\\metrics\\_classification.py:1509: UndefinedMetricWarning: Precision is ill-defined and being set to 0.0 in labels with no predicted samples. Use `zero_division` parameter to control this behavior.\n",
      "  _warn_prf(average, modifier, f\"{metric.capitalize()} is\", len(result))\n",
      "E:\\Programing\\ML\\ml-venv\\lib\\site-packages\\sklearn\\metrics\\_classification.py:1509: UndefinedMetricWarning: Precision is ill-defined and being set to 0.0 in labels with no predicted samples. Use `zero_division` parameter to control this behavior.\n",
      "  _warn_prf(average, modifier, f\"{metric.capitalize()} is\", len(result))\n",
      "E:\\Programing\\ML\\ml-venv\\lib\\site-packages\\sklearn\\metrics\\_classification.py:1509: UndefinedMetricWarning: Precision is ill-defined and being set to 0.0 in labels with no predicted samples. Use `zero_division` parameter to control this behavior.\n",
      "  _warn_prf(average, modifier, f\"{metric.capitalize()} is\", len(result))\n"
     ]
    }
   ],
   "source": [
    "# Initialize the Random Forest classifier\n",
    "rf_classifier = RandomForestClassifier(max_depth=30, random_state=42)\n",
    "\n",
    "# Train the classifier on the training data\n",
    "rf_classifier.fit(X_train_vectors, y_train)\n",
    "\n",
    "# Predict the labels for the test data\n",
    "y_pred_rf = rf_classifier.predict(X_test_vectors)\n",
    "\n",
    "# Calculate the accuracy of the classifier\n",
    "# accuracy = accuracy_score(y_test, y_pred_rf)\n",
    "print(classification_report(y_test, y_pred_rf))"
   ]
  },
  {
   "cell_type": "markdown",
   "id": "2db3d6a8-7985-40d3-afd6-840007f4cfb3",
   "metadata": {},
   "source": [
    "### Support Vector Machines"
   ]
  },
  {
   "cell_type": "code",
   "execution_count": 21,
   "id": "07d6e9ca-6823-4e21-b376-bde57e2d9c9f",
   "metadata": {},
   "outputs": [
    {
     "name": "stdout",
     "output_type": "stream",
     "text": [
      "                         precision    recall  f1-score   support\n",
      "\n",
      "         Bank Transfers       0.70      0.64      0.67        11\n",
      "          Entertainment       1.00      0.31      0.47        13\n",
      "           Food & Drink       0.34      1.00      0.51        23\n",
      "    General Merchandise       1.00      0.11      0.20         9\n",
      "       General Services       0.00      0.00      0.00         3\n",
      "Government + Non-Profit       0.00      0.00      0.00         3\n",
      "                 Income       1.00      0.12      0.22         8\n",
      "                  Loans       1.00      1.00      1.00         9\n",
      "                Medical       0.00      0.00      0.00         2\n",
      "       Rent & Utilities       1.00      0.57      0.73        14\n",
      "         Transportation       0.50      0.12      0.20         8\n",
      "                 Travel       0.00      0.00      0.00         2\n",
      "\n",
      "               accuracy                           0.51       105\n",
      "              macro avg       0.54      0.32      0.33       105\n",
      "           weighted avg       0.69      0.51      0.47       105\n",
      "\n"
     ]
    },
    {
     "name": "stderr",
     "output_type": "stream",
     "text": [
      "E:\\Programing\\ML\\ml-venv\\lib\\site-packages\\sklearn\\metrics\\_classification.py:1509: UndefinedMetricWarning: Precision is ill-defined and being set to 0.0 in labels with no predicted samples. Use `zero_division` parameter to control this behavior.\n",
      "  _warn_prf(average, modifier, f\"{metric.capitalize()} is\", len(result))\n",
      "E:\\Programing\\ML\\ml-venv\\lib\\site-packages\\sklearn\\metrics\\_classification.py:1509: UndefinedMetricWarning: Precision is ill-defined and being set to 0.0 in labels with no predicted samples. Use `zero_division` parameter to control this behavior.\n",
      "  _warn_prf(average, modifier, f\"{metric.capitalize()} is\", len(result))\n",
      "E:\\Programing\\ML\\ml-venv\\lib\\site-packages\\sklearn\\metrics\\_classification.py:1509: UndefinedMetricWarning: Precision is ill-defined and being set to 0.0 in labels with no predicted samples. Use `zero_division` parameter to control this behavior.\n",
      "  _warn_prf(average, modifier, f\"{metric.capitalize()} is\", len(result))\n"
     ]
    }
   ],
   "source": [
    "from sklearn import svm\n",
    "\n",
    "clf = svm.SVC()\n",
    "\n",
    "# Train the classifier on the training data\n",
    "clf.fit(X_train_vectors, y_train)\n",
    "\n",
    "# Predict the labels for the test data\n",
    "y_pred_svc = clf.predict(X_test_vectors)\n",
    "\n",
    "# Calculate the accuracy of the classifier\n",
    "\n",
    "print(classification_report(y_test, y_pred_svc))"
   ]
  },
  {
   "cell_type": "markdown",
   "id": "cd3989a7-6ba1-419b-936e-ae7ee9a42f86",
   "metadata": {},
   "source": [
    "### Accuracy"
   ]
  },
  {
   "cell_type": "code",
   "execution_count": 27,
   "id": "0958b059-3977-4738-bb41-a3315b5a2cac",
   "metadata": {},
   "outputs": [
    {
     "name": "stdout",
     "output_type": "stream",
     "text": [
      "\u001b[1mAccuracy\u001b[0m \n",
      "MultinomialNB: 42.86%\n",
      "Random Forest: 61.90%\n",
      "Support Vector Machines: 51.43%\n"
     ]
    }
   ],
   "source": [
    "from sklearn.metrics import accuracy_score\n",
    "\n",
    "y_test  # Actual labels\n",
    "nb_predictions = classifier.predict(X_test_vectors)  # Predictions from MultinomialNB\n",
    "rf_predictions = rf_classifier.predict(X_test_vectors)  # Predictions from Random Forest\n",
    "svm_predictions = clf.predict(X_test_vectors)  # Predictions from SVM\n",
    "\n",
    "# Calculate accuracy\n",
    "nb_accuracy = accuracy_score(y_test, nb_predictions)\n",
    "rf_accuracy = accuracy_score(y_test, rf_predictions)\n",
    "svm_accuracy = accuracy_score(y_test, svm_predictions)\n",
    "\n",
    "# Print the accuracies\n",
    "print(\"\\033[1mAccuracy\\033[0m \")\n",
    "print(\"MultinomialNB: {:.2%}\".format(nb_accuracy))\n",
    "print(\"Random Forest: {:.2%}\".format(rf_accuracy))\n",
    "print(\"Support Vector Machines: {:.2%}\".format(svm_accuracy))"
   ]
  },
  {
   "cell_type": "markdown",
   "id": "c960c0e2-86bf-4810-a1fd-afe4e0ebc4ea",
   "metadata": {},
   "source": [
    "### Visualising Accuracy"
   ]
  },
  {
   "cell_type": "code",
   "execution_count": 28,
   "id": "d15f0fd1-be86-48ec-b4a6-0700b986c30c",
   "metadata": {},
   "outputs": [
    {
     "data": {
      "image/png": "[encoded data removed]",
      "text/plain": [
       "<Figure size 800x400 with 1 Axes>"
      ]
     },
     "metadata": {},
     "output_type": "display_data"
    }
   ],
   "source": [
    "import matplotlib.pyplot as plt\n",
    "\n",
    "# Accuracies from each model\n",
    "accuracies = [42.86, 61.90, 51.43]\n",
    "models = ['MultinomialNB', 'Random Forest', 'SVM']\n",
    "\n",
    "# Create a bar plot\n",
    "plt.figure(figsize=(8, 4))\n",
    "plt.bar(models, accuracies, color=['blue', 'green', 'red'])\n",
    "plt.xlabel('Models')\n",
    "plt.ylabel('Accuracy (%)')\n",
    "plt.title('Comparison of Model Accuracies')\n",
    "plt.ylim([0, 100])  # Set the limits for the Y-axis\n",
    "\n",
    "# Show the plot\n",
    "plt.show()"
   ]
  },
  {
   "cell_type": "markdown",
   "id": "a8b926d5-5348-4d90-9b6f-190a1111aeea",
   "metadata": {},
   "source": [
    "### User Input"
   ]
  },
  {
   "cell_type": "code",
   "execution_count": 29,
   "id": "c6ad74a4-9fd4-488f-9c15-0c8aa5c19490",
   "metadata": {},
   "outputs": [
    {
     "name": "stdin",
     "output_type": "stream",
     "text": [
      "Enter your expense message:  I subscribed to netflix for 1999 Rs\n"
     ]
    }
   ],
   "source": [
    "def preprocess_input_text(text):\n",
    "    # Preprocess the input text\n",
    "    preprocessed_text = preprocess_text(text)\n",
    "    # Vectorize the preprocessed text\n",
    "    text_vector = vectorizer.transform([preprocessed_text])\n",
    "    return text_vector\n",
    "\n",
    "def classify_input(text):\n",
    "    # Preprocess and vectorize the input text\n",
    "    text_vector = preprocess_input_text(text)\n",
    "    # Classify the input text \n",
    "    # MultinomialNB\n",
    "    nv_predicted_label = classifier.predict(text_vector)\n",
    "    # rf\n",
    "    rf_predicted_label = rf_classifier.predict(text_vector)\n",
    "    # svm\n",
    "    svm_predicted_label = clf.predict(text_vector)\n",
    "    return nv_predicted_label[0], rf_predicted_label[0], svm_predicted_label[0]\n",
    "\n",
    "# Input text message\n",
    "input_text = input(\"Enter your expense message: \")\n",
    "# Classify the input text\n",
    "nb, rf, svm = classify_input(input_text)"
   ]
  },
  {
   "cell_type": "markdown",
   "id": "ab3cd3f1-d250-4140-aad0-7548312dee6c",
   "metadata": {},
   "source": [
    "### Display Labels"
   ]
  },
  {
   "cell_type": "code",
   "execution_count": 30,
   "id": "b7e0e25b-959b-4fa1-a24c-636b7c1f64c0",
   "metadata": {},
   "outputs": [
    {
     "name": "stdout",
     "output_type": "stream",
     "text": [
      "\u001b[1mPredicted Label\u001b[0m\n",
      "MultinomialNB:  Entertainment\n",
      "Random Forest:  Food & Drink\n",
      "Support Vector Machines:  Entertainment\n"
     ]
    }
   ],
   "source": [
    "print(\"\\033[1mPredicted Label\\033[0m\")\n",
    "print(\"MultinomialNB: \", nb)\n",
    "print(\"Random Forest: \", rf)\n",
    "print(\"Support Vector Machines: \", svm)"
   ]
  },
  {
   "cell_type": "markdown",
   "id": "aac97ea3-eaa4-4c72-871a-43984fbdef9d",
   "metadata": {},
   "source": [
    "### Tableau"
   ]
  },
  {
   "cell_type": "code",
   "execution_count": 42,
   "id": "fac1934f-4ba9-4d50-86d5-cb4137b9a7a9",
   "metadata": {},
   "outputs": [
    {
     "data": {
      "text/html": [
       "\n",
       "        <iframe\n",
       "            width=\"800\"\n",
       "            height=\"600\"\n",
       "            src=\"https://public.tableau.com/views/FDSExpensetracker/Dashboard1?:language=en-US&publish=yes&:sid=&:display_count=n&:origin=viz_share_link\"\n",
       "            frameborder=\"0\"\n",
       "            allowfullscreen\n",
       "            \n",
       "        ></iframe>\n",
       "        "
      ],
      "text/plain": [
       "<IPython.lib.display.IFrame at 0x25b39865ee0>"
      ]
     },
     "execution_count": 42,
     "metadata": {},
     "output_type": "execute_result"
    }
   ],
   "source": [
    "from IPython.display import IFrame\n",
    "\n",
    "# Replace 'your_dashboard_url' with the URL of your Tableau Public dashboard\n",
    "dashboard_url = 'https://public.tableau.com/views/FDSExpensetracker/Dashboard1?:language=en-US&publish=yes&:sid=&:display_count=n&:origin=viz_share_link'\n",
    "\n",
    "# Embed the dashboard URL as an iframe\n",
    "IFrame(dashboard_url, width=800, height=600)\n"
   ]
  },
  {
   "cell_type": "code",
   "execution_count": null,
   "id": "14944537-d641-4ccb-a295-2643e3efe7ab",
   "metadata": {},
   "outputs": [],
   "source": []
  }
 ],
 "metadata": {
  "kernelspec": {
   "display_name": "ml-venv",
   "language": "python",
   "name": "ml-venv"
  },
  "language_info": {
   "codemirror_mode": {
    "name": "ipython",
    "version": 3
   },
   "file_extension": ".py",
   "mimetype": "text/x-python",
   "name": "python",
   "nbconvert_exporter": "python",
   "pygments_lexer": "ipython3",
   "version": "3.9.9"
  }
 },
 "nbformat": 4,
 "nbformat_minor": 5
}
