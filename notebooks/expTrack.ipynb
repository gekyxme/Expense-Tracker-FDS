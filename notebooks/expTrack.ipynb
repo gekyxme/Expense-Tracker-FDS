{
 "cells": [
  {
   "cell_type": "code",
   "execution_count": 3,
   "id": "2e6ad4f8-54bd-425f-9837-35a9c384726c",
   "metadata": {},
   "outputs": [],
   "source": [
    "import numpy as np\n",
    "import pandas as pd\n",
    "import os"
   ]
  },
  {
   "cell_type": "code",
   "execution_count": 6,
   "id": "dfcb4919-5b95-4d05-b9bb-48ccf0dae884",
   "metadata": {},
   "outputs": [
    {
     "data": {
      "text/html": [
       "<div>\n",
       "<style scoped>\n",
       "    .dataframe tbody tr th:only-of-type {\n",
       "        vertical-align: middle;\n",
       "    }\n",
       "\n",
       "    .dataframe tbody tr th {\n",
       "        vertical-align: top;\n",
       "    }\n",
       "\n",
       "    .dataframe thead th {\n",
       "        text-align: right;\n",
       "    }\n",
       "</style>\n",
       "<table border=\"1\" class=\"dataframe\">\n",
       "  <thead>\n",
       "    <tr style=\"text-align: right;\">\n",
       "      <th></th>\n",
       "      <th>Expense</th>\n",
       "      <th>Label</th>\n",
       "    </tr>\n",
       "  </thead>\n",
       "  <tbody>\n",
       "    <tr>\n",
       "      <th>0</th>\n",
       "      <td>I spent Rs 110 on a chicken burger today.</td>\n",
       "      <td>Food</td>\n",
       "    </tr>\n",
       "    <tr>\n",
       "      <th>1</th>\n",
       "      <td>Today's snack was Rs 10 for a banana.</td>\n",
       "      <td>Food</td>\n",
       "    </tr>\n",
       "    <tr>\n",
       "      <th>2</th>\n",
       "      <td>Dinner cost me Rs 300 for a delicious pizza.</td>\n",
       "      <td>Food</td>\n",
       "    </tr>\n",
       "    <tr>\n",
       "      <th>3</th>\n",
       "      <td>Chicken Biryani set me back Rs 200.</td>\n",
       "      <td>Food</td>\n",
       "    </tr>\n",
       "    <tr>\n",
       "      <th>4</th>\n",
       "      <td>I indulged in Rs 100 worth of chicken biryani.</td>\n",
       "      <td>Food</td>\n",
       "    </tr>\n",
       "  </tbody>\n",
       "</table>\n",
       "</div>"
      ],
      "text/plain": [
       "                                          Expense Label\n",
       "0       I spent Rs 110 on a chicken burger today.  Food\n",
       "1           Today's snack was Rs 10 for a banana.  Food\n",
       "2    Dinner cost me Rs 300 for a delicious pizza.  Food\n",
       "3             Chicken Biryani set me back Rs 200.  Food\n",
       "4  I indulged in Rs 100 worth of chicken biryani.  Food"
      ]
     },
     "execution_count": 6,
     "metadata": {},
     "output_type": "execute_result"
    }
   ],
   "source": [
    "df = pd.read_csv('../data/dataset.csv')\n",
    "df.head()"
   ]
  },
  {
   "cell_type": "code",
   "execution_count": 7,
   "id": "57c86885-6cdf-48be-a204-4c88166e7eee",
   "metadata": {},
   "outputs": [
    {
     "data": {
      "text/plain": [
       "Label\n",
       "Subscriptions    40\n",
       "Travel           37\n",
       "Food             35\n",
       "Bills            35\n",
       "Clothing         30\n",
       "Fuel             30\n",
       "Name: count, dtype: int64"
      ]
     },
     "execution_count": 7,
     "metadata": {},
     "output_type": "execute_result"
    }
   ],
   "source": [
    "df['Label'].value_counts()"
   ]
  },
  {
   "cell_type": "code",
   "execution_count": 8,
   "id": "03a390be-3ca2-4976-97d8-8c7348aabdb6",
   "metadata": {},
   "outputs": [
    {
     "data": {
      "text/plain": [
       "207"
      ]
     },
     "execution_count": 8,
     "metadata": {},
     "output_type": "execute_result"
    }
   ],
   "source": [
    "x = df['Expense']\n",
    "y = df['Label']\n",
    "len(x)"
   ]
  },
  {
   "cell_type": "code",
   "execution_count": 11,
   "id": "ef884e71-4392-4e2a-a42c-5a00ed9b4578",
   "metadata": {},
   "outputs": [],
   "source": [
    "from sklearn.model_selection import train_test_split\n",
    "x_train, x_test, y_train, y_test = train_test_split(x, y, test_size = 0.2, random_state = 22)"
   ]
  },
  {
   "cell_type": "code",
   "execution_count": 12,
   "id": "194b6a27-ca82-404a-86de-f2c8bf347511",
   "metadata": {},
   "outputs": [
    {
     "data": {
      "text/plain": [
       "165"
      ]
     },
     "execution_count": 12,
     "metadata": {},
     "output_type": "execute_result"
    }
   ],
   "source": [
    "len(x_train)"
   ]
  },
  {
   "cell_type": "code",
   "execution_count": 24,
   "id": "53e673cc-022a-4dba-abe2-6583d51678fa",
   "metadata": {},
   "outputs": [],
   "source": [
    "from sklearn.pipeline import Pipeline\n",
    "from sklearn.feature_extraction.text import TfidfVectorizer\n",
    "from sklearn.naive_bayes import MultinomialNB, ComplementNB\n",
    "from sklearn.svm import LinearSVC\n",
    "from sklearn.metrics import accuracy_score, classification_report"
   ]
  },
  {
   "cell_type": "code",
   "execution_count": 40,
   "id": "fd0c2cb7-1135-4015-a096-f7c8186b45e6",
   "metadata": {},
   "outputs": [],
   "source": [
    "pipeMNB = Pipeline([('tfidf', TfidfVectorizer(stop_words='english')),('clf', MultinomialNB())])\n",
    "pipeCNB = Pipeline([('tfidf', TfidfVectorizer(ngram_range=(1,3))),('clf', ComplementNB())])\n",
    "pipeSVC = Pipeline([('tfidf', TfidfVectorizer(ngram_range=(1,3))),('clf', LinearSVC())])"
   ]
  },
  {
   "cell_type": "code",
   "execution_count": 41,
   "id": "79b73fc8-5aab-4dd2-a99a-6159eefb780b",
   "metadata": {},
   "outputs": [
    {
     "name": "stdout",
     "output_type": "stream",
     "text": [
      "MNB: 1.00\n",
      "CNB: 1.00\n",
      "SVC: 1.00\n"
     ]
    },
    {
     "name": "stderr",
     "output_type": "stream",
     "text": [
      "E:\\Programing\\ML\\ml-venv\\lib\\site-packages\\sklearn\\svm\\_classes.py:31: FutureWarning: The default value of `dual` will change from `True` to `'auto'` in 1.5. Set the value of `dual` explicitly to suppress the warning.\n",
      "  warnings.warn(\n"
     ]
    }
   ],
   "source": [
    "pipeMNB.fit(x_train, y_train)\n",
    "predictMNB = pipeMNB.predict(x_test)\n",
    "print(f'MNB: {accuracy_score(y_test, predictMNB):.2f}')\n",
    "\n",
    "pipeCNB.fit(x_train, y_train)\n",
    "predictCNB = pipeCNB.predict(x_test)\n",
    "print(f'CNB: {accuracy_score(y_test, predictCNB):.2f}')\n",
    "\n",
    "pipeSVC.fit(x_train, y_train)\n",
    "predictSVC = pipeSVC.predict(x_test)\n",
    "print(f'SVC: {accuracy_score(y_test, predictSVC):.2f}')"
   ]
  },
  {
   "cell_type": "code",
   "execution_count": 42,
   "id": "181315ab-f6e2-4f1c-aaf8-44f80150c7b7",
   "metadata": {},
   "outputs": [
    {
     "name": "stdout",
     "output_type": "stream",
     "text": [
      "               precision    recall  f1-score   support\n",
      "\n",
      "        Bills       1.00      1.00      1.00        10\n",
      "     Clothing       1.00      1.00      1.00         5\n",
      "         Food       1.00      1.00      1.00         6\n",
      "         Fuel       1.00      1.00      1.00         6\n",
      "Subscriptions       1.00      1.00      1.00         9\n",
      "       Travel       1.00      1.00      1.00         6\n",
      "\n",
      "     accuracy                           1.00        42\n",
      "    macro avg       1.00      1.00      1.00        42\n",
      " weighted avg       1.00      1.00      1.00        42\n",
      "\n"
     ]
    }
   ],
   "source": [
    "print(classification_report(y_test, predictSVC))"
   ]
  },
  {
   "cell_type": "code",
   "execution_count": 49,
   "id": "4d19c455-1bb3-4933-b05b-9e9e6572bce1",
   "metadata": {},
   "outputs": [
    {
     "data": {
      "text/plain": [
       "array(['Fuel'], dtype=object)"
      ]
     },
     "execution_count": 49,
     "metadata": {},
     "output_type": "execute_result"
    }
   ],
   "source": [
    "exp = \"Petrol for my car cost me 1000\"\n",
    "pipeSVC.predict([exp])"
   ]
  },
  {
   "cell_type": "code",
   "execution_count": null,
   "id": "0c799461-df9d-4161-a613-90669fb72507",
   "metadata": {},
   "outputs": [],
   "source": []
  }
 ],
 "metadata": {
  "kernelspec": {
   "display_name": "Python 3 (ipykernel)",
   "language": "python",
   "name": "python3"
  },
  "language_info": {
   "codemirror_mode": {
    "name": "ipython",
    "version": 3
   },
   "file_extension": ".py",
   "mimetype": "text/x-python",
   "name": "python",
   "nbconvert_exporter": "python",
   "pygments_lexer": "ipython3",
   "version": "3.9.9"
  }
 },
 "nbformat": 4,
 "nbformat_minor": 5
}
